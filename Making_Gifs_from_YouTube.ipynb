{
 "metadata": {
  "name": ""
 },
 "nbformat": 3,
 "nbformat_minor": 0,
 "worksheets": [
  {
   "cells": [
    {
     "cell_type": "markdown",
     "metadata": {},
     "source": [
      "**Need to intall**\n",
      "\n",
      "- moviepy (dependent on ffmpeg and ImageMagick - http://zulko.github.io/moviepy/install.html\n",
      "- pafy (Python YouTube API) - http://github.com/np1/pafy\n",
      "\n",
      "Upload to http://gfycat.com/"
     ]
    },
    {
     "cell_type": "code",
     "collapsed": false,
     "input": [
      "from moviepy.editor import *\n",
      "import pafy"
     ],
     "language": "python",
     "metadata": {},
     "outputs": []
    },
    {
     "cell_type": "markdown",
     "metadata": {},
     "source": [
      "Imbed video in notebook to make it easy to find and adjust the time range you want to use for the gif."
     ]
    },
    {
     "cell_type": "code",
     "collapsed": false,
     "input": [
      "#the video id is the string that comes after the \"https://www.youtube.com/watch?v=\"\n",
      "\n",
      "from IPython.display import YouTubeVideo\n",
      "YouTubeVideo(#put your video id here)"
     ],
     "language": "python",
     "metadata": {},
     "outputs": []
    },
    {
     "cell_type": "markdown",
     "metadata": {},
     "source": [
      "Access the video through the YouTube API and download it."
     ]
    },
    {
     "cell_type": "code",
     "collapsed": false,
     "input": [
      "#this find the youtube video and downloads it.\n",
      "\n",
      "#add the video url here\n",
      "url = 'https://www.youtube.com/watch?v=your_video_id'\n",
      "video = pafy.new(url)\n",
      "\n",
      "#get the best download option\n",
      "best = video.getbest(preftype=\"mp4\")\n",
      "\n",
      "#create a filename for the video\n",
      "myfilename = 'Your_Video_Name.' + best.extension\n",
      "title = best.download(filepath=myfilename ,quiet=False)\n",
      "print title"
     ],
     "language": "python",
     "metadata": {},
     "outputs": []
    },
    {
     "cell_type": "code",
     "collapsed": false,
     "input": [
      "#subclip = start and stop time\n",
      "#resize = downsample\n",
      "#name your gif file\n",
      "#fps = frames per second\n",
      "VideoFileClip(title).\\\n",
      "              subclip((4,02.40),(4,08.00)).\\\n",
      "              resize(0.25).\\\n",
      "              to_gif(\"Your_Gif_Name.gif\", fps=7)"
     ],
     "language": "python",
     "metadata": {},
     "outputs": []
    },
    {
     "cell_type": "code",
     "collapsed": false,
     "input": [],
     "language": "python",
     "metadata": {},
     "outputs": []
    }
   ],
   "metadata": {}
  }
 ]
}